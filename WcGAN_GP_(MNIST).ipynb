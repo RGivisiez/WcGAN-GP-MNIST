{
  "nbformat": 4,
  "nbformat_minor": 0,
  "metadata": {
    "colab": {
      "name": "WcGAN-GP (MNIST).ipynb",
      "provenance": [],
      "collapsed_sections": [
        "hHr6fnk6hyi3",
        "EPIm-RHcCdo5",
        "kghQIj3FChRc",
        "dGDnrZ8GExVt",
        "xA9WbvFpF64H",
        "v6RCaCLGF-Px",
        "zH07XncpGDsS",
        "YeM9gJ08HfrM",
        "RiHEQRTRHlvf",
        "fDHWOUfLI9Ym"
      ],
      "authorship_tag": "ABX9TyMLyV2ewMRTm6klnkTAKf3+",
      "include_colab_link": true
    },
    "kernelspec": {
      "name": "python3",
      "display_name": "Python 3"
    },
    "language_info": {
      "name": "python"
    },
    "accelerator": "GPU"
  },
  "cells": [
    {
      "cell_type": "markdown",
      "metadata": {
        "id": "view-in-github",
        "colab_type": "text"
      },
      "source": [
        "<a href=\"https://colab.research.google.com/github/RGivisiez/WcGAN-GP-MNIST/blob/main/WcGAN_GP_(MNIST).ipynb\" target=\"_parent\"><img src=\"https://colab.research.google.com/assets/colab-badge.svg\" alt=\"Open In Colab\"/></a>"
      ]
    },
    {
      "cell_type": "markdown",
      "source": [
        "# Description\n",
        "\n",
        "In this notebook, I will use a conditional GAN to generate numbers of the MNIST dataset. Because GANs requires a lot of computational resources, I will restrict the dataset size and the number of classes used. My main objective is to see the process of training a GAN.\n",
        "\n",
        "To keep track of GAN's discriminator loss and visualize the quality of images generated, I will use the TensorBoard.\n",
        "\n",
        "> To prevent the well know mode colapse that a vannila GAN presents, I will use the Wasserstein loss with a gradient penalty (WGAN-GP).\n",
        "\n",
        "> **Tips:** Typically, the discriminator (critic) loss is expected to have negative values and fall very quickly at the beginning of the training, then rise again to near 0. This behaviour is expected of a stable GAN.\n",
        "\n",
        "![epoch_d_loss](img/epoch_d_loss.svg)"
      ],
      "metadata": {
        "id": "1LeWt1-0h2kC"
      }
    },
    {
      "cell_type": "markdown",
      "source": [
        "# Imports"
      ],
      "metadata": {
        "id": "hHr6fnk6hyi3"
      }
    },
    {
      "cell_type": "code",
      "execution_count": null,
      "metadata": {
        "colab": {
          "base_uri": "https://localhost:8080/"
        },
        "id": "zeJy4ohuaN26",
        "outputId": "961c51b9-6364-4bcb-95f3-168ba6719dab"
      },
      "outputs": [
        {
          "output_type": "execute_result",
          "data": {
            "text/plain": [
              "'2.7.0'"
            ]
          },
          "metadata": {},
          "execution_count": 1
        }
      ],
      "source": [
        "import os\n",
        "import io\n",
        "import datetime\n",
        "\n",
        "import matplotlib.pyplot as plt\n",
        "from IPython import display\n",
        "import numpy as np\n",
        "\n",
        "import tensorflow as tf\n",
        "from tensorflow.keras import layers\n",
        "from tensorflow import keras\n",
        "from tensorflow.keras import Model\n",
        "tf.__version__"
      ]
    },
    {
      "cell_type": "code",
      "source": [
        "%load_ext tensorboard"
      ],
      "metadata": {
        "id": "0DJ2cp_8aeFc"
      },
      "execution_count": null,
      "outputs": []
    },
    {
      "cell_type": "markdown",
      "source": [
        "# Create the dataset"
      ],
      "metadata": {
        "id": "EPIm-RHcCdo5"
      }
    },
    {
      "cell_type": "code",
      "source": [
        "#@title Downlad and normalize imagens\n",
        "(train_images, train_labels), (_, _) = tf.keras.datasets.mnist.load_data()\n",
        "\n",
        "train_images = train_images.reshape(train_images.shape[0], 28, 28, 1).astype('float32')\n",
        "\n",
        "norm_image = 255 / 2.0\n",
        "\n",
        "train_images = (train_images - norm_image) / norm_image  # Normalize the images to [-1, 1]"
      ],
      "metadata": {
        "id": "2BVluXbyared",
        "cellView": "form"
      },
      "execution_count": null,
      "outputs": []
    },
    {
      "cell_type": "code",
      "source": [
        "#@title Set the train size and select the classes to consider (Default is 0 and 2).\n",
        "\n",
        "train_size = 512 #@param {type:\"integer\"}\n",
        "class_to_consider = [0, 2] #@param {type:\"raw\"}\n",
        "num_class = len(class_to_consider)\n",
        "\n",
        "print('Train size: {0} \\nClasses: {1}'.format(train_size, class_to_consider))"
      ],
      "metadata": {
        "colab": {
          "base_uri": "https://localhost:8080/"
        },
        "cellView": "form",
        "id": "uFL_YqdR_LDO",
        "outputId": "1302a2f3-841e-4365-e329-0ff4a8e247a7"
      },
      "execution_count": null,
      "outputs": [
        {
          "output_type": "stream",
          "name": "stdout",
          "text": [
            "Train size: 512 \n",
            "Classes: [0, 2]\n"
          ]
        }
      ]
    },
    {
      "cell_type": "code",
      "source": [
        "#@title Restrict the train size and select the classes labels\n",
        "\n",
        "mask = train_labels == class_to_consider[0]\n",
        "\n",
        "for c in class_to_consider[1:]:\n",
        "  mask = mask + (train_labels == c)\n",
        "\n",
        "train_images = train_images[mask]\n",
        "train_labels = train_labels[mask]\n",
        "\n",
        "train_images = train_images[:train_size]\n",
        "train_labels = train_labels[:train_size]"
      ],
      "metadata": {
        "id": "xSpsvTAQjtm7",
        "cellView": "form"
      },
      "execution_count": null,
      "outputs": []
    },
    {
      "cell_type": "code",
      "source": [
        "# Buffer size must be big. \n",
        "# A rule of thumbs is to choose it equal\n",
        "# to the dataset size.\n",
        "\n",
        "BUFFER_SIZE = train_images.shape[0]\n",
        "BATCH_SIZE = 128"
      ],
      "metadata": {
        "id": "SemxzkS1bOro"
      },
      "execution_count": null,
      "outputs": []
    },
    {
      "cell_type": "code",
      "source": [
        "#@title Make the dataset\n",
        "train_dataset = tf.data.Dataset.from_tensor_slices((train_images, train_labels)).shuffle(BUFFER_SIZE).batch(BATCH_SIZE).prefetch(tf.data.AUTOTUNE)"
      ],
      "metadata": {
        "id": "WBAgb3uvbiVO",
        "cellView": "form"
      },
      "execution_count": null,
      "outputs": []
    },
    {
      "cell_type": "markdown",
      "source": [
        "# Models"
      ],
      "metadata": {
        "id": "kghQIj3FChRc"
      }
    },
    {
      "cell_type": "code",
      "source": [
        "noise_dim = 128"
      ],
      "metadata": {
        "id": "jB8Tu32CzIGo"
      },
      "execution_count": null,
      "outputs": []
    },
    {
      "cell_type": "code",
      "source": [
        "gen_input_shape = (noise_dim + num_class, )\n",
        "disc_input_shape = (train_images.shape[1],\n",
        "                    train_images.shape[2],\n",
        "                    1 + num_class,)"
      ],
      "metadata": {
        "id": "jkfGbg0Cwb7A"
      },
      "execution_count": null,
      "outputs": []
    },
    {
      "cell_type": "code",
      "source": [
        "def make_generator1():\n",
        "\n",
        "  model = tf.keras.Sequential(name='generator1')\n",
        "\n",
        "  model.add(layers.Dense(7*7*256, input_shape=gen_input_shape))\n",
        "  model.add(layers.BatchNormalization())\n",
        "  model.add(layers.LeakyReLU())\n",
        "\n",
        "  model.add(layers.Reshape([7, 7, 256]))\n",
        "  model.add(layers.Conv2DTranspose(128, 5, 1, 'same'))\n",
        "  model.add(layers.BatchNormalization())\n",
        "  model.add(layers.LeakyReLU())\n",
        "\n",
        "  model.add(layers.Conv2DTranspose(64, 5, 2, 'same'))\n",
        "  model.add(layers.BatchNormalization())\n",
        "  model.add(layers.LeakyReLU())\n",
        "\n",
        "  model.add(layers.Conv2DTranspose(1, 5, 2, 'same', activation='tanh'))\n",
        "\n",
        "  return model"
      ],
      "metadata": {
        "id": "qP2n6BudbsWv"
      },
      "execution_count": null,
      "outputs": []
    },
    {
      "cell_type": "code",
      "source": [
        "def make_discriminator1():\n",
        "\n",
        "  model = tf.keras.Sequential(name='discriminator1')\n",
        "\n",
        "  model.add(layers.Conv2D(64, 5, 2, 'same', input_shape=disc_input_shape))\n",
        "  model.add(layers.LeakyReLU())\n",
        "  model.add(layers.Dropout(0.3))\n",
        "\n",
        "  model.add(layers.Conv2D(128, 5, 2, 'same'))\n",
        "  model.add(layers.LeakyReLU())\n",
        "  model.add(layers.Dropout(0.3))\n",
        "  \n",
        "  model.add(layers.Flatten())\n",
        "  model.add(layers.Dense(1))\n",
        "\n",
        "  return model"
      ],
      "metadata": {
        "id": "xLkWmyqDhsbT"
      },
      "execution_count": null,
      "outputs": []
    },
    {
      "cell_type": "code",
      "source": [
        "def upsample_block(\n",
        "    x,\n",
        "    filters,\n",
        "    activation,\n",
        "    kernel_size=(3, 3),\n",
        "    strides=(1, 1),\n",
        "    up_size=(2, 2),\n",
        "    padding=\"same\",\n",
        "    use_bn=False,\n",
        "    use_bias=True,\n",
        "    use_dropout=False,\n",
        "    drop_value=0.3,\n",
        "):\n",
        "    x = layers.UpSampling2D(up_size)(x)\n",
        "    x = layers.Conv2D(\n",
        "        filters, kernel_size, strides=strides, padding=padding, use_bias=use_bias\n",
        "    )(x)\n",
        "\n",
        "    if use_bn:\n",
        "        x = layers.BatchNormalization()(x)\n",
        "\n",
        "    if activation:\n",
        "        x = activation(x)\n",
        "    if use_dropout:\n",
        "        x = layers.Dropout(drop_value)(x)\n",
        "    return x\n",
        "\n",
        "\n",
        "def make_generator2():\n",
        "    noise = layers.Input(shape=gen_input_shape)\n",
        "    x = layers.Dense(4 * 4 * 256, use_bias=False)(noise)\n",
        "    x = layers.BatchNormalization()(x)\n",
        "    x = layers.LeakyReLU(0.2)(x)\n",
        "\n",
        "    x = layers.Reshape((4, 4, 256))(x)\n",
        "    x = upsample_block(\n",
        "        x,\n",
        "        128,\n",
        "        layers.LeakyReLU(0.2),\n",
        "        strides=(1, 1),\n",
        "        use_bias=False,\n",
        "        use_bn=True,\n",
        "        padding=\"same\",\n",
        "        use_dropout=False,\n",
        "    )\n",
        "    x = upsample_block(\n",
        "        x,\n",
        "        64,\n",
        "        layers.LeakyReLU(0.2),\n",
        "        strides=(1, 1),\n",
        "        use_bias=False,\n",
        "        use_bn=True,\n",
        "        padding=\"same\",\n",
        "        use_dropout=False,\n",
        "    )\n",
        "    x = upsample_block(\n",
        "        x, 1, layers.Activation(\"tanh\"), strides=(1, 1), use_bias=False, use_bn=True\n",
        "    )\n",
        "    # At this point, we have an output which has the same shape as the input, (32, 32, 1).\n",
        "    # We will use a Cropping2D layer to make it (28, 28, 1).\n",
        "    x = layers.Cropping2D((2, 2))(x)\n",
        "    \n",
        "    g_model = keras.models.Model(noise, x, name=\"generator2\")\n",
        "    return g_model"
      ],
      "metadata": {
        "id": "6xtzj9FuWLMW"
      },
      "execution_count": null,
      "outputs": []
    },
    {
      "cell_type": "code",
      "source": [
        "def conv_block(\n",
        "    x,\n",
        "    filters,\n",
        "    activation,\n",
        "    kernel_size=(3, 3),\n",
        "    strides=(1, 1),\n",
        "    padding=\"same\",\n",
        "    use_bias=True,\n",
        "    use_bn=False,\n",
        "    use_dropout=False,\n",
        "    drop_value=0.5,\n",
        "):\n",
        "    x = layers.Conv2D(\n",
        "        filters, kernel_size, strides=strides, padding=padding, use_bias=use_bias\n",
        "    )(x)\n",
        "    if use_bn:\n",
        "        x = layers.BatchNormalization()(x)\n",
        "    x = activation(x)\n",
        "    if use_dropout:\n",
        "        x = layers.Dropout(drop_value)(x)\n",
        "    return x\n",
        "\n",
        "def make_discriminator2():\n",
        "    img_input = layers.Input(shape=disc_input_shape)\n",
        "    # Zero pad the input to make the input images size to (32, 32, 1).\n",
        "    x = layers.ZeroPadding2D((2, 2))(img_input)\n",
        "    x = conv_block(\n",
        "        x,\n",
        "        64,\n",
        "        kernel_size=(5, 5),\n",
        "        strides=(2, 2),\n",
        "        use_bn=False,\n",
        "        use_bias=True,\n",
        "        activation=layers.LeakyReLU(0.2),\n",
        "        use_dropout=False,\n",
        "        drop_value=0.3,\n",
        "    )\n",
        "    x = conv_block(\n",
        "        x,\n",
        "        128,\n",
        "        kernel_size=(5, 5),\n",
        "        strides=(2, 2),\n",
        "        use_bn=False,\n",
        "        activation=layers.LeakyReLU(0.2),\n",
        "        use_bias=True,\n",
        "        use_dropout=True,\n",
        "        drop_value=0.3,\n",
        "    )\n",
        "    x = conv_block(\n",
        "        x,\n",
        "        256,\n",
        "        kernel_size=(5, 5),\n",
        "        strides=(2, 2),\n",
        "        use_bn=False,\n",
        "        activation=layers.LeakyReLU(0.2),\n",
        "        use_bias=True,\n",
        "        use_dropout=True,\n",
        "        drop_value=0.3,\n",
        "    )\n",
        "    x = conv_block(\n",
        "        x,\n",
        "        512,\n",
        "        kernel_size=(5, 5),\n",
        "        strides=(2, 2),\n",
        "        use_bn=False,\n",
        "        activation=layers.LeakyReLU(0.2),\n",
        "        use_bias=True,\n",
        "        use_dropout=False,\n",
        "        drop_value=0.3,\n",
        "    )\n",
        "\n",
        "    x = layers.Flatten()(x)\n",
        "    x = layers.Dropout(0.2)(x)\n",
        "    x = layers.Dense(1)(x)\n",
        "    \n",
        "    d_model = keras.models.Model(img_input, x, name=\"discriminator2\")\n",
        "    return d_model"
      ],
      "metadata": {
        "id": "ciYOhNdWVo-a"
      },
      "execution_count": null,
      "outputs": []
    },
    {
      "cell_type": "markdown",
      "source": [
        "# WcGAN-GP class"
      ],
      "metadata": {
        "id": "dGDnrZ8GExVt"
      }
    },
    {
      "cell_type": "code",
      "source": [
        "class WGAN(Model):\n",
        "    def __init__(self, discriminator, generator, latent_dim,\n",
        "                 d_extra_steps=3, gp_weight=10.0,):\n",
        "        super(WGAN, self).__init__()\n",
        "        self.discriminator = discriminator\n",
        "        self.generator = generator\n",
        "        self.latent_dim = latent_dim\n",
        "        self.d_extra_steps = d_extra_steps\n",
        "        self.gp_weight = gp_weight\n",
        "\n",
        "    def compile(self, disc_opt, gen_opt, d_loss_fn, g_loss_fn):\n",
        "        super(WGAN, self).compile()\n",
        "        self.disc_opt = disc_opt\n",
        "        self.gen_opt = gen_opt\n",
        "        self.d_loss_fn = d_loss_fn\n",
        "        self.g_loss_fn = g_loss_fn\n",
        "\n",
        "    def gradient_penalty(self, batch_size, real_images, fake_images):\n",
        "        \"\"\" Calculates the gradient penalty.\n",
        "\n",
        "            This loss is calculated on an interpolated image\n",
        "            and added to the discriminator loss.\n",
        "        \"\"\"\n",
        "        # Get the interpolated image\n",
        "        alpha = tf.random.normal([batch_size, 1, 1, 1])\n",
        "        interpolated = real_images * alpha + fake_images * (1 - alpha)\n",
        "\n",
        "        with tf.GradientTape() as gp_tape:\n",
        "            gp_tape.watch(interpolated)\n",
        "            # 1. Get the discriminator output for this interpolated image.\n",
        "            pred = self.discriminator(interpolated, training=True)\n",
        "\n",
        "        # 2. Calculate the gradients w.r.t to this interpolated image.\n",
        "        grads = gp_tape.gradient(pred, [interpolated])[0]\n",
        "        \n",
        "        # 3. Calculate the norm of the gradients.\n",
        "        norm = tf.sqrt(tf.reduce_sum(tf.square(grads), axis=[1, 2, 3]))\n",
        "        gp = tf.reduce_mean((norm - 1.0) ** 2)\n",
        "        \n",
        "        return gp\n",
        "\n",
        "    # Override the training step function of the Model class\n",
        "    def train_step(self, data):\n",
        "\n",
        "      images, labels = data\n",
        "\n",
        "      batch_size = tf.shape(images)[0]\n",
        "\n",
        "      one_hot_labels = tf.one_hot(labels, depth=num_class)\n",
        "\n",
        "      image_one_hot_labels = tf.repeat(one_hot_labels,\n",
        "                                 repeats=[disc_input_shape[0] * disc_input_shape[1]])\n",
        "\n",
        "      image_one_hot_labels = tf.reshape(image_one_hot_labels,\n",
        "                                        (-1, disc_input_shape[0], disc_input_shape[1], num_class))\n",
        "\n",
        "      #---------Discriminator loop--------------\n",
        "\n",
        "      for i in range(self.d_extra_steps):\n",
        "\n",
        "        noise = tf.random.normal([batch_size, self.latent_dim])\n",
        "\n",
        "        noise_labels = tf.concat([noise, one_hot_labels], axis=1)\n",
        "\n",
        "        with tf.GradientTape() as disc_tape:\n",
        "          \n",
        "          G_output = self.generator(noise_labels, training=True)\n",
        "          G_output = tf.concat([G_output, image_one_hot_labels], -1)\n",
        "          images_and_labels = tf.concat([images, image_one_hot_labels], -1)\n",
        "  \n",
        "          D_fake_pred = self.discriminator(G_output, training=True)\n",
        "\n",
        "          D_real_pred = self.discriminator(images_and_labels, training=True)\n",
        "\n",
        "          gp = self.gradient_penalty(batch_size, images_and_labels, G_output)\n",
        "          D_loss = self.d_loss_fn(D_real_pred, D_fake_pred, self.gp_weight, gp)\n",
        "\n",
        "        D_grad = disc_tape.gradient(D_loss, self.discriminator.trainable_variables)\n",
        "        disc_opt.apply_gradients(zip(D_grad, self.discriminator.trainable_variables))\n",
        "      \n",
        "      #------Generator loop-------------\n",
        "\n",
        "      noise = tf.random.normal([batch_size, self.latent_dim])\n",
        "\n",
        "      noise_labels = tf.concat([noise, one_hot_labels], axis=1)\n",
        "\n",
        "      with tf.GradientTape() as gen_tape:\n",
        "\n",
        "        G_output = self.generator(noise_labels, training=True)\n",
        "        G_output = tf.concat([G_output, image_one_hot_labels], -1)\n",
        "\n",
        "        D_fake_pred = self.discriminator(G_output, training=True)\n",
        "\n",
        "        G_loss = self.g_loss_fn(D_fake_pred)\n",
        "\n",
        "      G_grad = gen_tape.gradient(G_loss, self.generator.trainable_variables)\n",
        "      gen_opt.apply_gradients(zip(G_grad, self.generator.trainable_variables))\n",
        "\n",
        "      return {'d_loss': D_loss, \"g_loss\": G_loss}"
      ],
      "metadata": {
        "id": "p5yjSb7XsVm7"
      },
      "execution_count": null,
      "outputs": []
    },
    {
      "cell_type": "markdown",
      "source": [
        "# Callbacks"
      ],
      "metadata": {
        "id": "xA9WbvFpF64H"
      }
    },
    {
      "cell_type": "code",
      "source": [
        "#@title Path to save the callbacks\n",
        "logdir = \"logs/Model-2\"#os.path.join(\"logs\", datetime.datetime.now().strftime(\"%Y-%m-%d_%H:%M:%S\"))\n",
        "\n",
        "image_writer = tf.summary.create_file_writer(logdir + '/img')\n",
        "\n",
        "print('Path logs: {0}'.format(logdir))"
      ],
      "metadata": {
        "id": "j4gev3GopsAM",
        "colab": {
          "base_uri": "https://localhost:8080/"
        },
        "outputId": "a1c993ce-1114-48a8-932c-3d5ad0619b3d"
      },
      "execution_count": null,
      "outputs": [
        {
          "output_type": "stream",
          "name": "stdout",
          "text": [
            "Path logs: logs/Model-2\n"
          ]
        }
      ]
    },
    {
      "cell_type": "code",
      "source": [
        "tensorboard_callback = tf.keras.callbacks.TensorBoard(logdir,\n",
        "                                                      histogram_freq=5,\n",
        "                                                      profile_batch = '2,3')"
      ],
      "metadata": {
        "id": "TrrAT4p3LD1R"
      },
      "execution_count": null,
      "outputs": []
    },
    {
      "cell_type": "markdown",
      "source": [
        "### Help functions"
      ],
      "metadata": {
        "id": "v6RCaCLGF-Px"
      }
    },
    {
      "cell_type": "code",
      "source": [
        "def plot_to_image(figure):\n",
        "\n",
        "  \"\"\"Converts the matplotlib plot specified by 'figure' to a PNG image and\n",
        "  returns it. The supplied figure is closed and inaccessible after this call.\"\"\"\n",
        "  \n",
        "  # Save the plot to a PNG in memory.\n",
        "  buf = io.BytesIO()\n",
        "  plt.savefig(buf, format='png')\n",
        "\n",
        "  # Closing the figure prevents it from being displayed directly inside\n",
        "  # the notebook.\n",
        "  plt.close(figure)\n",
        "  buf.seek(0)\n",
        "\n",
        "  # Convert PNG buffer to TF image\n",
        "  image = tf.image.decode_png(buf.getvalue(), channels=4)\n",
        "  \n",
        "  # Add the batch dimension\n",
        "  image = tf.expand_dims(image, 0)\n",
        "\n",
        "  return image"
      ],
      "metadata": {
        "id": "nnmBlcC_qc8J"
      },
      "execution_count": null,
      "outputs": []
    },
    {
      "cell_type": "markdown",
      "source": [
        "### **GeneratorImages**: callback to save images for TensorBoard\n",
        "\n",
        "> **Warning**: This function use matplotlib and will slowdown the code, consider exclude GeneratorImages from the callback calls in model.fit()."
      ],
      "metadata": {
        "id": "zH07XncpGDsS"
      }
    },
    {
      "cell_type": "code",
      "source": [
        "class GeneratorImages(keras.callbacks.Callback):\n",
        "  def __init__(self, fixed_seed, save_step=10):\n",
        "    self.fixed_seed = fixed_seed\n",
        "    self.save_step = save_step\n",
        "\n",
        "  def on_epoch_end(self, epoch, logs=None):\n",
        "\n",
        "    if epoch % self.save_step == 0:\n",
        "\n",
        "      display.clear_output(wait=True)\n",
        "      print('Epoch {0}'.format(epoch + 1))\n",
        "\n",
        "      labels = tf.range(0, num_class)\n",
        "      one_hot_labels = tf.one_hot(labels, num_class)\n",
        "      noise_labels = tf.concat([self.fixed_seed, one_hot_labels], axis=1)\n",
        "      predictions = self.model.generator(noise_labels, training=False)\n",
        "\n",
        "      predictions_img = predictions[:, :, :, 0] * 127.5 + 127.5\n",
        "      \n",
        "      fig = plt.figure(figsize=(8, 8))\n",
        "\n",
        "      for i in range(predictions_img.shape[0]):\n",
        "        plt.imshow(predictions_img[i, :, :], cmap='gray')\n",
        "        plt.axis('off')\n",
        "\n",
        "        with image_writer.as_default():\n",
        "          tf.summary.image(\"Generator Images - {}\".format(i), plot_to_image(fig), step=epoch)"
      ],
      "metadata": {
        "id": "lxO-WW1910Ko"
      },
      "execution_count": null,
      "outputs": []
    },
    {
      "cell_type": "markdown",
      "source": [
        "# Loss function"
      ],
      "metadata": {
        "id": "YeM9gJ08HfrM"
      }
    },
    {
      "cell_type": "code",
      "source": [
        "def W_gen_loss(fake_pred):\n",
        "  return -tf.reduce_mean(fake_pred)\n",
        "\n",
        "def W_disc_loss(real_pred, fake_pred, eps, grad_pen):\n",
        "  return -tf.reduce_mean(real_pred) + tf.reduce_mean(fake_pred) + eps * grad_pen"
      ],
      "metadata": {
        "id": "fhbYOIyS_cz7"
      },
      "execution_count": null,
      "outputs": []
    },
    {
      "cell_type": "markdown",
      "source": [
        "# Model build and compile\n",
        "\n",
        "There are two models that can be used:\n",
        "\n",
        "  1. `make_generator1()` or `make_discriminator1()`\n",
        "  2. `make_generator2()` or `make_discriminator2()`\n",
        "\n",
        "> By default `make_discriminator2()` and `make_generator2()` are used, because they give better results."
      ],
      "metadata": {
        "id": "RiHEQRTRHlvf"
      }
    },
    {
      "cell_type": "code",
      "source": [
        "Generator = make_generator2()\n",
        "Discriminator = make_discriminator2()"
      ],
      "metadata": {
        "id": "DeBung0fy7I_"
      },
      "execution_count": null,
      "outputs": []
    },
    {
      "cell_type": "code",
      "source": [
        "disc_opt = keras.optimizers.Adam(learning_rate=0.0002, beta_1=0.5, beta_2=0.9)\n",
        "gen_opt = keras.optimizers.Adam(learning_rate=0.0002, beta_1=0.5, beta_2=0.9)"
      ],
      "metadata": {
        "id": "yNdX8bMTRBRm"
      },
      "execution_count": null,
      "outputs": []
    },
    {
      "cell_type": "code",
      "source": [
        "model = WGAN(Discriminator, Generator, noise_dim, d_extra_steps=3)"
      ],
      "metadata": {
        "id": "em1OC_WTsVkp"
      },
      "execution_count": null,
      "outputs": []
    },
    {
      "cell_type": "code",
      "source": [
        "model.compile(disc_opt, gen_opt, W_disc_loss, W_gen_loss)"
      ],
      "metadata": {
        "id": "fcKSMU0XsVij"
      },
      "execution_count": null,
      "outputs": []
    },
    {
      "cell_type": "markdown",
      "source": [
        "# Model train"
      ],
      "metadata": {
        "id": "fDHWOUfLI9Ym"
      }
    },
    {
      "cell_type": "code",
      "source": [
        "#@title \n",
        "EPOCH =  700#@param {type:\"integer\"}"
      ],
      "metadata": {
        "cellView": "form",
        "id": "auBcxksOJmWf"
      },
      "execution_count": null,
      "outputs": []
    },
    {
      "cell_type": "code",
      "source": [
        "#@title Run TensorBoard\n",
        "%tensorboard --logdir logs --host 0.0.0.0"
      ],
      "metadata": {
        "id": "zUQa-7VDQKV6",
        "cellView": "form",
        "colab": {
          "base_uri": "https://localhost:8080/",
          "height": 822
        },
        "outputId": "aa3b2c69-f743-46fb-d78e-cc9fea68c099"
      },
      "execution_count": null,
      "outputs": [
        {
          "output_type": "display_data",
          "data": {
            "text/plain": [
              "<IPython.core.display.HTML object>"
            ],
            "text/html": [
              "\n",
              "      <iframe id=\"tensorboard-frame-40ea7b25e560a2f4\" width=\"100%\" height=\"800\" frameborder=\"0\">\n",
              "      </iframe>\n",
              "      <script>\n",
              "        (function() {\n",
              "          const frame = document.getElementById(\"tensorboard-frame-40ea7b25e560a2f4\");\n",
              "          const url = new URL(\"/\", window.location);\n",
              "          const port = 6006;\n",
              "          if (port) {\n",
              "            url.port = port;\n",
              "          }\n",
              "          frame.src = url;\n",
              "        })();\n",
              "      </script>\n",
              "    "
            ]
          },
          "metadata": {}
        }
      ]
    },
    {
      "cell_type": "code",
      "source": [
        "# Seed used to creat new images at every epoch using the Generator.\n",
        "# With a fixed seed, it is possible to see how the generator improves\n",
        "# at every epoch.\n",
        "fixed_seed = tf.random.normal([num_class, noise_dim], seed=42)"
      ],
      "metadata": {
        "id": "-6d16pXHmSth"
      },
      "execution_count": null,
      "outputs": []
    },
    {
      "cell_type": "code",
      "source": [
        "hist = model.fit(train_dataset,\n",
        "                 batch_size=BATCH_SIZE,\n",
        "                 epochs=EPOCH,\n",
        "                 callbacks=[GeneratorImages(fixed_seed),\n",
        "                            tensorboard_callback,\n",
        "                            ]\n",
        "                 )"
      ],
      "metadata": {
        "id": "LZISf4b8sVgT",
        "colab": {
          "base_uri": "https://localhost:8080/"
        },
        "outputId": "a74d86a0-e8b4-4537-80a2-ab1e4077494e"
      },
      "execution_count": null,
      "outputs": [
        {
          "output_type": "stream",
          "name": "stdout",
          "text": [
            "Epoch 691\n",
            "4/4 [==============================] - 5s 1s/step - d_loss: -3.4008 - g_loss: -9.3778\n",
            "Epoch 692/700\n",
            "4/4 [==============================] - 3s 831ms/step - d_loss: -3.2248 - g_loss: -9.0447\n",
            "Epoch 693/700\n",
            "4/4 [==============================] - 3s 793ms/step - d_loss: -3.6159 - g_loss: -9.1009\n",
            "Epoch 694/700\n",
            "4/4 [==============================] - 3s 790ms/step - d_loss: -3.4703 - g_loss: -8.7952\n",
            "Epoch 695/700\n",
            "4/4 [==============================] - 3s 791ms/step - d_loss: -3.3512 - g_loss: -9.5917\n",
            "Epoch 696/700\n",
            "4/4 [==============================] - 4s 1s/step - d_loss: -3.1629 - g_loss: -9.0833\n",
            "Epoch 697/700\n",
            "4/4 [==============================] - 3s 781ms/step - d_loss: -2.8746 - g_loss: -8.8627\n",
            "Epoch 698/700\n",
            "4/4 [==============================] - 3s 780ms/step - d_loss: -3.3518 - g_loss: -8.4206\n",
            "Epoch 699/700\n",
            "4/4 [==============================] - 3s 791ms/step - d_loss: -3.1163 - g_loss: -8.6230\n",
            "Epoch 700/700\n",
            "4/4 [==============================] - 3s 790ms/step - d_loss: -2.9158 - g_loss: -6.5741\n"
          ]
        }
      ]
    },
    {
      "cell_type": "markdown",
      "source": [
        "# Generate new images using the Discriminator"
      ],
      "metadata": {
        "id": "2lHcdW-tPXBq"
      }
    },
    {
      "cell_type": "code",
      "source": [
        "#@title Number o images\n",
        "n_images = 4 #@param {type:\"integer\"}\n",
        "\n",
        "plt.close()\n",
        "\n",
        "for _ in range(n_images):\n",
        "  \n",
        "  fixed_seed = tf.random.normal([num_class, noise_dim])\n",
        "\n",
        "  labels = tf.range(0, num_class)\n",
        "  one_hot_labels = tf.one_hot(labels, num_class)\n",
        "  noise_labels = tf.concat([fixed_seed, one_hot_labels], axis=1)\n",
        "  predictions = Generator(noise_labels, training=False)\n",
        "\n",
        "  fig = plt.figure(figsize=(num_class+1, 2))\n",
        "\n",
        "  for i in range(predictions.shape[0]):\n",
        "      plt.subplot(1, num_class, i+1)\n",
        "      plt.imshow(predictions[i, :, :, 0] * 127.5 + 127.5, cmap='gray')\n",
        "      plt.axis('off')\n",
        "\n",
        "  plt.show()"
      ],
      "metadata": {
        "id": "C1G-eV4nCvHk",
        "cellView": "form",
        "colab": {
          "base_uri": "https://localhost:8080/",
          "height": 517
        },
        "outputId": "57b8cac6-1659-42db-81c3-26a578582949"
      },
      "execution_count": null,
      "outputs": [
        {
          "output_type": "display_data",
          "data": {
            "text/plain": [
              "<Figure size 300x200 with 2 Axes>"
            ],
            "image/png": "[encoded data removed]"
          },
          "metadata": {}
        },
        {
          "output_type": "display_data",
          "data": {
            "text/plain": [
              "<Figure size 300x200 with 2 Axes>"
            ],
            "image/png": "[encoded data removed]"
          },
          "metadata": {}
        },
        {
          "output_type": "display_data",
          "data": {
            "text/plain": [
              "<Figure size 300x200 with 2 Axes>"
            ],
            "image/png": "[encoded data removed]"
          },
          "metadata": {}
        },
        {
          "output_type": "display_data",
          "data": {
            "text/plain": [
              "<Figure size 300x200 with 2 Axes>"
            ],
            "image/png": "[encoded data removed]"
          },
          "metadata": {}
        }
      ]
    }
  ]
}
